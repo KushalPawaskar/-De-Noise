{
  "cells": [
    {
      "cell_type": "markdown",
      "metadata": {
        "id": "wLA3O4ffe67L"
      },
      "source": [
        "#Import Dependencies"
      ]
    },
    {
      "cell_type": "code",
      "execution_count": null,
      "metadata": {
        "id": "-pHNrfJje__S"
      },
      "outputs": [],
      "source": [
        "import numpy as np"
      ]
    },
    {
      "cell_type": "code",
      "execution_count": null,
      "metadata": {
        "id": "PyZMc5ZBfESl"
      },
      "outputs": [],
      "source": [
        "import tensorflow as tf"
      ]
    },
    {
      "cell_type": "code",
      "source": [
        "from tensorflow.keras.layers import Input, Conv1D, Conv1DTranspose, Concatenate, PReLU, LeakyReLU, BatchNormalization, Flatten, Dense"
      ],
      "metadata": {
        "id": "o43FRt-_hJJE"
      },
      "execution_count": null,
      "outputs": []
    },
    {
      "cell_type": "code",
      "source": [
        "from tensorflow.keras.models import Model"
      ],
      "metadata": {
        "id": "Z8wZN3CrOben"
      },
      "execution_count": null,
      "outputs": []
    },
    {
      "cell_type": "code",
      "source": [
        "from tensorflow.keras.utils import plot_model"
      ],
      "metadata": {
        "id": "zPSyvctQPdZR"
      },
      "execution_count": null,
      "outputs": []
    },
    {
      "cell_type": "code",
      "source": [
        "from tensorflow.keras.losses import BinaryCrossentropy"
      ],
      "metadata": {
        "id": "51X9GeDCfIWs"
      },
      "execution_count": null,
      "outputs": []
    },
    {
      "cell_type": "code",
      "source": [
        "from tensorflow.keras.optimizers import Adam"
      ],
      "metadata": {
        "id": "omo9ujzJnqF_"
      },
      "execution_count": null,
      "outputs": []
    },
    {
      "cell_type": "code",
      "execution_count": null,
      "metadata": {
        "colab": {
          "base_uri": "https://localhost:8080/"
        },
        "id": "7Y5V3qhbgZ9p",
        "outputId": "34443656-9fc0-4159-d2c6-6cf92a21e8a1"
      },
      "outputs": [
        {
          "output_type": "stream",
          "name": "stderr",
          "text": [
            "/usr/local/lib/python3.7/dist-packages/resampy/interpn.py:114: NumbaWarning: The TBB threading layer requires TBB version 2019.5 or later i.e., TBB_INTERFACE_VERSION >= 11005. Found TBB_INTERFACE_VERSION = 9107. The TBB threading layer is disabled.\n",
            "  _resample_loop_p(x, t_out, interp_win, interp_delta, num_table, scale, y)\n"
          ]
        }
      ],
      "source": [
        "import librosa"
      ]
    },
    {
      "cell_type": "code",
      "execution_count": null,
      "metadata": {
        "id": "-_-xB9-7hJKJ"
      },
      "outputs": [],
      "source": [
        "import os"
      ]
    },
    {
      "cell_type": "code",
      "execution_count": null,
      "metadata": {
        "id": "dWp7bOyso5tF"
      },
      "outputs": [],
      "source": [
        "import glob"
      ]
    },
    {
      "cell_type": "code",
      "execution_count": null,
      "metadata": {
        "id": "SxXssk0RpGTR"
      },
      "outputs": [],
      "source": [
        "from tqdm.notebook import tqdm"
      ]
    },
    {
      "cell_type": "code",
      "execution_count": null,
      "metadata": {
        "id": "gPCBkKhujFAy"
      },
      "outputs": [],
      "source": [
        "import soundfile as sf"
      ]
    },
    {
      "cell_type": "code",
      "source": [
        "import librosa.display"
      ],
      "metadata": {
        "id": "YmW21ByTv6V3"
      },
      "execution_count": null,
      "outputs": []
    },
    {
      "cell_type": "code",
      "source": [
        "import matplotlib.pyplot as plt"
      ],
      "metadata": {
        "id": "sqjKqvekkSC0"
      },
      "execution_count": null,
      "outputs": []
    },
    {
      "cell_type": "code",
      "execution_count": null,
      "metadata": {
        "id": "d2mQzz3wfLqs"
      },
      "outputs": [],
      "source": [
        "from google.colab import drive"
      ]
    },
    {
      "cell_type": "markdown",
      "metadata": {
        "id": "4DldsJEUfG1i"
      },
      "source": [
        "#Dataset"
      ]
    },
    {
      "cell_type": "code",
      "execution_count": null,
      "metadata": {
        "colab": {
          "base_uri": "https://localhost:8080/"
        },
        "id": "xx8MXt-ofGCF",
        "outputId": "26689f63-2bc0-4c03-9fb6-4f36d9486f19"
      },
      "outputs": [
        {
          "output_type": "stream",
          "name": "stdout",
          "text": [
            "Mounted at /content/drive\n"
          ]
        }
      ],
      "source": [
        "drive.mount('/content/drive')"
      ]
    },
    {
      "cell_type": "code",
      "execution_count": null,
      "metadata": {
        "id": "K8VdMtr5fSBW"
      },
      "outputs": [],
      "source": [
        "!mkdir 'clean_trainset_wav'\n",
        "!mkdir 'noisy_trainset_wav'"
      ]
    },
    {
      "cell_type": "code",
      "execution_count": null,
      "metadata": {
        "id": "X76GQSSkgBSj"
      },
      "outputs": [],
      "source": [
        "!unzip '/content/drive/MyDrive/clean_trainset_wav.zip' -d 'clean_trainset_wav'\n",
        "!unzip '/content/drive/MyDrive/noisy_trainset_wav.zip' -d 'noisy_trainset_wav'"
      ]
    },
    {
      "cell_type": "code",
      "execution_count": null,
      "metadata": {
        "id": "GZrY0oASjWwU"
      },
      "outputs": [],
      "source": [
        "!mkdir 'clean_trainset_wav_16k'\n",
        "!mkdir 'noisy_trainset_wav_16k'"
      ]
    },
    {
      "cell_type": "code",
      "execution_count": null,
      "metadata": {
        "id": "kBXYC5vYgRZL"
      },
      "outputs": [],
      "source": [
        "for file in os.listdir('clean_trainset_wav'):\n",
        "  audio, sr = librosa.load('clean_trainset_wav/'+file, sr=None)\n",
        "  audio_16k = librosa.resample(y=audio, orig_sr=sr, target_sr=16000)\n",
        "  sf.write('clean_trainset_wav_16k/'+file, audio_16k, 16000)"
      ]
    },
    {
      "cell_type": "code",
      "execution_count": null,
      "metadata": {
        "id": "8T3io_d4huQd"
      },
      "outputs": [],
      "source": [
        "for file in os.listdir('noisy_trainset_wav'):\n",
        "  audio, sr = librosa.load('noisy_trainset_wav/'+file, sr=None)\n",
        "  audio_16k = librosa.resample(y=audio, orig_sr=sr, target_sr=16000)\n",
        "  sf.write('noisy_trainset_wav_16k/'+file, audio_16k, 16000)"
      ]
    },
    {
      "cell_type": "code",
      "execution_count": null,
      "metadata": {
        "colab": {
          "base_uri": "https://localhost:8080/",
          "height": 115,
          "referenced_widgets": [
            "de0a9ff733714ba4ad63d1b1d526a494",
            "c7e63b075ff44a2696522a8d0c7f1cdc",
            "806be101ef9c41408c760e6bf8744b6d",
            "b72c249d2b3a44788fab6b6337165945",
            "60553ebd0c364247bc8db92d7f94e389",
            "9d0b64e82ccc49c5b80e4d36658054f1",
            "b515d23523da412880ee8bd32387a63f",
            "dde311f5831846ec96c8df0b5d39ee60",
            "9357f4321b45427497653dbddc4d55cd",
            "dec90453fa2b49639310a7f190e33622",
            "3723ce517c254a01aaa2047254f20e98",
            "aeb0b477ba644853ad0e125796eeaabf",
            "3833fd0984ca4a6daa9d8e5f3f4d46a7",
            "3b9a90c6c75b41568ca95576ca66cd9c",
            "9fc56c8970da4b32984d582d7fdd53e6",
            "b28b8d6dd74a4ad89bd6cd0eabd0fd37",
            "93b847ddf91d4252a98988969dd09be9",
            "fc8bfcb656124804b92951a4741e94ef",
            "d22de65ea42b43b1980cd8685d56478c",
            "a844e9de217249688427e9b917894d1f",
            "fd12740baa6b4a3289e37aa898aa26e0",
            "0b95deadf9d24cc3a92bab73ef321a99"
          ]
        },
        "id": "gS_d5KhgnM0X",
        "outputId": "b9c11ffc-1ab1-46a2-a17f-6cbc2502de6e"
      },
      "outputs": [
        {
          "output_type": "display_data",
          "data": {
            "text/plain": [
              "  0%|          | 0/11571 [00:00<?, ?it/s]"
            ],
            "application/vnd.jupyter.widget-view+json": {
              "version_major": 2,
              "version_minor": 0,
              "model_id": "de0a9ff733714ba4ad63d1b1d526a494"
            }
          },
          "metadata": {}
        },
        {
          "output_type": "display_data",
          "data": {
            "text/plain": [
              "  0%|          | 0/11571 [00:00<?, ?it/s]"
            ],
            "application/vnd.jupyter.widget-view+json": {
              "version_major": 2,
              "version_minor": 0,
              "model_id": "aeb0b477ba644853ad0e125796eeaabf"
            }
          },
          "metadata": {}
        },
        {
          "output_type": "stream",
          "name": "stdout",
          "text": [
            "(540938091, 1)\n",
            "(540938091, 1)\n"
          ]
        }
      ],
      "source": [
        "clean_sounds = glob.glob('/content/clean_trainset_wav_16k/*')\n",
        "noisy_sounds = glob.glob('/content/noisy_trainset_wav_16k/*')\n",
        "\n",
        "clean_sounds_list = tf.audio.decode_wav(tf.io.read_file(clean_sounds[0]), desired_channels=1)[0]\n",
        "for i in tqdm(clean_sounds[1:]):\n",
        "  s = tf.audio.decode_wav(tf.io.read_file(i), desired_channels=1)[0]\n",
        "  clean_sounds_list = tf.concat([clean_sounds_list, s], axis=0)\n",
        "\n",
        "noisy_sounds_list = tf.audio.decode_wav(tf.io.read_file(noisy_sounds[0]), desired_channels=1)[0]\n",
        "for i in tqdm(noisy_sounds[1:]):\n",
        "  s = tf.audio.decode_wav(tf.io.read_file(i), desired_channels=1)[0]\n",
        "  noisy_sounds_list = tf.concat([noisy_sounds_list, s], axis=0)\n",
        "\n",
        "print(clean_sounds_list.shape)\n",
        "print(noisy_sounds_list.shape)"
      ]
    },
    {
      "cell_type": "code",
      "execution_count": null,
      "metadata": {
        "id": "vWiSrnxwrqp4",
        "colab": {
          "base_uri": "https://localhost:8080/",
          "height": 83,
          "referenced_widgets": [
            "985b0c3f26334f98ada1b53c9328b2ef",
            "f10bf1386b654f7d97b237f2ba03e1a1",
            "086ea12c417f43b396f9303feba9c2d4",
            "d73dd31c47144f4b97e06abaf7104e60",
            "80d5fb1df5194c43aac41ddd29b76115",
            "115d8dfccde541f298747c2ab1a2e9e0",
            "b88b2568997a4bd6948b1186a046cf93",
            "6b1465f4e9cf416b95d0c9fe51450de2",
            "807589d4229c452583c9b035b9847025",
            "1138000c953f4ef8a5082e00d65e3d6c",
            "0490309e93164e51aa158f5e43a5d715"
          ]
        },
        "outputId": "1489e5ab-eae7-4cce-ecab-646ba1bfc7da"
      },
      "outputs": [
        {
          "output_type": "display_data",
          "data": {
            "text/plain": [
              "  0%|          | 0/29714 [00:00<?, ?it/s]"
            ],
            "application/vnd.jupyter.widget-view+json": {
              "version_major": 2,
              "version_minor": 0,
              "model_id": "985b0c3f26334f98ada1b53c9328b2ef"
            }
          },
          "metadata": {}
        },
        {
          "output_type": "stream",
          "name": "stdout",
          "text": [
            "(29714, 16384, 1)\n",
            "(29714, 16384, 1)\n"
          ]
        }
      ],
      "source": [
        "BATCH_SIZE = 16384\n",
        "\n",
        "clean_train, noisy_train = [], []\n",
        "\n",
        "for i in tqdm(range(0, clean_sounds_list.shape[0]*9//10-BATCH_SIZE, BATCH_SIZE)):\n",
        "  clean_train.append(clean_sounds_list[i:i+BATCH_SIZE])\n",
        "  noisy_train.append(noisy_sounds_list[i:i+BATCH_SIZE])\n",
        "\n",
        "clean_train = tf.stack(clean_train)\n",
        "noisy_train = tf.stack(noisy_train)\n",
        "\n",
        "print(clean_train.shape)\n",
        "print(noisy_train.shape)"
      ]
    },
    {
      "cell_type": "code",
      "source": [
        "librosa.display.waveplot(np.squeeze(clean_train[0].numpy(), axis=-1))\n",
        "plt.show()"
      ],
      "metadata": {
        "colab": {
          "base_uri": "https://localhost:8080/",
          "height": 279
        },
        "id": "SmIB8raLmxml",
        "outputId": "46e99dab-9ae6-4ef2-af07-2573b6ccba2b"
      },
      "execution_count": null,
      "outputs": [
        {
          "output_type": "display_data",
          "data": {
            "text/plain": [
              "<Figure size 432x288 with 1 Axes>"
            ],
            "image/png": "[encoded data removed]"
          },
          "metadata": {
            "needs_background": "light"
          }
        }
      ]
    },
    {
      "cell_type": "code",
      "source": [
        "librosa.display.waveplot(np.squeeze(noisy_train[0].numpy(), axis=-1))\n",
        "plt.show()"
      ],
      "metadata": {
        "colab": {
          "base_uri": "https://localhost:8080/",
          "height": 279
        },
        "id": "nAfdIFG0nBi_",
        "outputId": "4dce6149-e54d-4f99-a98f-f400bb96e91a"
      },
      "execution_count": null,
      "outputs": [
        {
          "output_type": "display_data",
          "data": {
            "text/plain": [
              "<Figure size 432x288 with 1 Axes>"
            ],
            "image/png": "[encoded data removed]"
          },
          "metadata": {
            "needs_background": "light"
          }
        }
      ]
    },
    {
      "cell_type": "code",
      "source": [
        "def get_dataset(X_train, y_train):\n",
        "  dataset = tf.data.Dataset.from_tensor_slices((X_train, y_train))\n",
        "  dataset = dataset.shuffle(100).batch(64, drop_remainder=True)\n",
        "  return dataset"
      ],
      "metadata": {
        "id": "MMRPpoYynMDk"
      },
      "execution_count": null,
      "outputs": []
    },
    {
      "cell_type": "code",
      "source": [
        "train_dataset = get_dataset(noisy_train[:26000], clean_train[:26000])\n",
        "test_dataset = get_dataset(noisy_train[26000:], clean_train[26000:])"
      ],
      "metadata": {
        "id": "JASFtqUL2g_X"
      },
      "execution_count": null,
      "outputs": []
    },
    {
      "cell_type": "markdown",
      "source": [
        "#Model"
      ],
      "metadata": {
        "id": "5pN1adGv2ysA"
      }
    },
    {
      "cell_type": "markdown",
      "source": [
        "##Generator"
      ],
      "metadata": {
        "id": "iflmgDtXg6Pr"
      }
    },
    {
      "cell_type": "code",
      "source": [
        "#Input layer : Noisy signal\n",
        "input = Input(shape=(BATCH_SIZE,1))     #BATCH_SIZE=16384\n",
        "\n",
        "#Encoder stage : 11 convolutional layers each with filter width = 31 and strides = 2 followed by PReLU activation\n",
        "c1 = Conv1D(filters=16, kernel_size=31, strides=2, padding='same')(input)\n",
        "c1a = PReLU()(c1)\n",
        "\n",
        "c2 = Conv1D(filters=32, kernel_size=31, strides=2, padding='same')(c1a)\n",
        "c2a = PReLU(c2)\n",
        "\n",
        "c3 = Conv1D(filters=32, kernel_size=31, strides=2, padding='same')(c2a)\n",
        "c3a = PReLU(c3)\n",
        "\n",
        "c4 = Conv1D(filters=64, kernel_size=31, strides=2, padding='same')(c3a)\n",
        "c4a = PReLU(c4)\n",
        "\n",
        "c5 = Conv1D(filters=64, kernel_size=31, strides=2, padding='same')(c4a)\n",
        "c5a = PReLU(c5)\n",
        "\n",
        "c6 = Conv1D(filters=128, kernel_size=31, strides=2, padding='same')(c5a)\n",
        "c6a = PReLU(c6)\n",
        "\n",
        "c7 = Conv1D(filters=128, kernel_size=31, strides=2, padding='same')(c6a)\n",
        "c7a = PReLU(c7)\n",
        "\n",
        "c8 = Conv1D(filters=256, kernel_size=31, strides=2, padding='same')(c7a)\n",
        "c8a = PReLU(c8)\n",
        "\n",
        "c9 = Conv1D(filters=256, kernel_size=31, strides=2, padding='same')(c8a)\n",
        "c9a = PReLU(c9)\n",
        "\n",
        "c10 = Conv1D(filters=512, kernel_size=31, strides=2, padding='same')(c9a)\n",
        "c10a = PReLU(c10)\n",
        "\n",
        "c11 = Conv1D(filters=1024, kernel_size=31, strides=2, padding='same')(c10a)\n",
        "c11a = PReLU(c11)\n",
        "\n",
        "#c11a is the thought vector\n",
        "#It will be concatenated with the latent vector z that comes from an 8x1024 dimensional standard normal distribution\n",
        "z = Input(shape=(BATCH_SIZE//(2**11),1024))\n",
        "cz = Concatenate()([c11a,z])\n",
        "\n",
        "#Decoder stage : 11 deconvolutional PReLU activated layers, each concatenated with its convolutional counterpart from the encoder stage\n",
        "dc1 = Conv1DTranspose(filters=1024, kernel_size=31, strides=1, padding='same')(cz)\n",
        "dc1a = PReLU(dc1)\n",
        "conc1 = Concatenate()([dc1a,c11a])\n",
        "\n",
        "dc2 = Conv1DTranspose(filters=512, kernel_size=31, strides=2, padding='same')(conc1)\n",
        "dc2a = PReLU(dc2)\n",
        "conc2 = Concatenate()([dc2a,c10a])\n",
        "\n",
        "dc3 = Conv1DTranspose(filters=256, kernel_size=31, strides=2, padding='same')(conc2)\n",
        "dc3a = PReLU(dc3)\n",
        "conc3 = Concatenate()([dc3a,c9a])\n",
        "\n",
        "dc4 = Conv1DTranspose(filters=256, kernel_size=31, strides=2, padding='same')(conc3)\n",
        "dc4a = PReLU(dc4)\n",
        "conc4 = Concatenate()([dc4a,c8a])\n",
        "\n",
        "dc5 = Conv1DTranspose(filters=128, kernel_size=31, strides=2, padding='same')(conc4)\n",
        "dc5a = PReLU(dc5)\n",
        "conc5 = Concatenate()([dc5a,c7a])\n",
        "\n",
        "dc6 = Conv1DTranspose(filters=128, kernel_size=31, strides=2, padding='same')(conc5)\n",
        "dc6a = PReLU(dc6)\n",
        "conc6 = Concatenate()([dc6a,c6a])\n",
        "\n",
        "dc7 = Conv1DTranspose(filters=64, kernel_size=31, strides=2, padding='same')(conc6)\n",
        "dc7a = PReLU(dc7)\n",
        "conc7 = Concatenate()([dc7a,c5a])\n",
        "\n",
        "dc8 = Conv1DTranspose(filters=64, kernel_size=31, strides=2, padding='same')(conc7)\n",
        "dc8a = PReLU(dc8)\n",
        "conc8 = Concatenate()([dc8a,c4a])\n",
        "\n",
        "dc9 = Conv1DTranspose(filters=32, kernel_size=31, strides=2, padding='same')(conc8)\n",
        "dc9a = PReLU(dc9)\n",
        "conc9 = Concatenate()([dc9a,c3a])\n",
        "\n",
        "dc10 = Conv1DTranspose(filters=32, kernel_size=31, strides=2, padding='same')(conc9)\n",
        "dc10a = PReLU(dc10)\n",
        "conc10 = Concatenate()([dc10a,c2a])\n",
        "\n",
        "dc11 = Conv1DTranspose(filters=16, kernel_size=31, strides=2, padding='same')(conc10)\n",
        "dc11a = PReLU(dc11)\n",
        "conc11 = Concatenate()([dc11a,c1a])\n",
        "\n",
        "#Output layer\n",
        "g_output = Conv1DTranspose(filters=1, kernel_size=31, strides=1, padding='same')(conc11)\n",
        "\n",
        "#Generator model\n",
        "generator = Model(inputs=input, outputs=g_output)"
      ],
      "metadata": {
        "id": "sxtC7lrM2xiY"
      },
      "execution_count": null,
      "outputs": []
    },
    {
      "cell_type": "code",
      "source": [
        "#Summarize the model\n",
        "generator.summary()"
      ],
      "metadata": {
        "id": "56Gcu5aVOxxT"
      },
      "execution_count": null,
      "outputs": []
    },
    {
      "cell_type": "code",
      "source": [
        "#Plot the model\n",
        "plot_model(model=generator, show_shapes=True, show_layer_names=True)"
      ],
      "metadata": {
        "id": "0IDXC8dUPOyW"
      },
      "execution_count": null,
      "outputs": []
    },
    {
      "cell_type": "markdown",
      "source": [
        "##Discriminator"
      ],
      "metadata": {
        "id": "WmIjp8lvPmkD"
      }
    },
    {
      "cell_type": "code",
      "source": [
        "#Input layer : Two channels\n",
        "input_clean = Input(shape=(BATCH_SIZE,1))\n",
        "input_noisy = Input(shape=(BATCH_SIZE,1))\n",
        "input = Concatenate()([input_clean,input_noisy])\n",
        "\n",
        "#Convolutional layers\n",
        "c1 = Conv1D(filters=16, kernel_size=31, strides=2, padding='same')(input)\n",
        "c1n = BatchNormalization()(c1)\n",
        "c1a = LeakyReLU(alpha=0.3)(c1n)\n",
        "\n",
        "c2 = Conv1D(filters=32, kernel_size=31, strides=2, padding='same')(c1a)\n",
        "c2n = BatchNormalization()(c2)\n",
        "c2a = LeakyReLU(alpha=0.3)(c2n)\n",
        "\n",
        "c3 = Conv1D(filters=32, kernel_size=31, strides=2, padding='same')(c2a)\n",
        "c3n = BatchNormalization()(c3)\n",
        "c3a = LeakyReLU(alpha=0.3)(c3n)\n",
        "\n",
        "c4 = Conv1D(filters=64, kernel_size=31, strides=2, padding='same')(c3a)\n",
        "c4n = BatchNormalization()(c4)\n",
        "c4a = LeakyReLU(alpha=0.3)(c4n)\n",
        "\n",
        "c5 = Conv1D(filters=64, kernel_size=31, strides=2, padding='same')(c4a)\n",
        "c5n = BatchNormalization()(c5)\n",
        "c5a = LeakyReLU(alpha=0.3)(c5n)\n",
        "\n",
        "c6 = Conv1D(filters=128, kernel_size=31, strides=2, padding='same')(c5a)\n",
        "c6n = BatchNormalization()(c6)\n",
        "c6a = LeakyReLU(alpha=0.3)(c6n)\n",
        "\n",
        "c7 = Conv1D(filters=128, kernel_size=31, strides=2, padding='same')(c6a)\n",
        "c7n = BatchNormalization()(c7)\n",
        "c7a = LeakyReLU(alpha=0.3)(c7n)\n",
        "\n",
        "c8 = Conv1D(filters=256, kernel_size=31, strides=2, padding='same')(c7a)\n",
        "c8n = BatchNormalization()(c8)\n",
        "c8a = LeakyReLU(alpha=0.3)(c8n)\n",
        "\n",
        "c9 = Conv1D(filters=256, kernel_size=31, strides=2, padding='same')(c8a)\n",
        "c9n = BatchNormalization()(c9)\n",
        "c9a = LeakyReLU(alpha=0.3)(c9n)\n",
        "\n",
        "c10 = Conv1D(filters=512, kernel_size=31, strides=2, padding='same')(c9a)\n",
        "c10n = BatchNormalization()(c10)\n",
        "c10a = LeakyReLU(alpha=0.3)(c10n)\n",
        "\n",
        "c11 = Conv1D(filters=1024, kernel_size=31, strides=2, padding='same')(c10a)\n",
        "c11n = BatchNormalization()(c11)\n",
        "c11a = LeakyReLU(alpha=0.3)(c11n)\n",
        "\n",
        "c12 = Conv1D(filters=1, kernel_size=1, strides=1, padding='same')(c11a)\n",
        "c12n = BatchNormalization()(c12)\n",
        "c12a = LeakyReLU(alpha=0.3)(c12n)\n",
        "\n",
        "#Flattening\n",
        "flat = Flatten()(c12a)\n",
        "\n",
        "#Fully-connected layer for final classification\n",
        "d_output = Dense(units=1)(flat)\n",
        "\n",
        "#Discriminator model\n",
        "discriminator = Model(inputs=[input_clean, input_noisy], outputs=d_output)"
      ],
      "metadata": {
        "id": "rfFPZQ8cPooM"
      },
      "execution_count": null,
      "outputs": []
    },
    {
      "cell_type": "code",
      "source": [
        "#Summarize the model\n",
        "discriminator.summary()"
      ],
      "metadata": {
        "id": "DjP5bXSnWg1c"
      },
      "execution_count": null,
      "outputs": []
    },
    {
      "cell_type": "code",
      "source": [
        "#Plot the mode\n",
        "plot_model(model=discriminator, show_shapes=True, show_layer_names=True)"
      ],
      "metadata": {
        "id": "MyUBNz5QWqoL"
      },
      "execution_count": null,
      "outputs": []
    },
    {
      "cell_type": "markdown",
      "source": [
        "##GAN Model"
      ],
      "metadata": {
        "id": "Ak7dKPiCXmJR"
      }
    },
    {
      "cell_type": "code",
      "source": [
        "loss_fn = BinaryCrossentropy(from_logits=True)"
      ],
      "metadata": {
        "id": "NBtocS7CXntG"
      },
      "execution_count": null,
      "outputs": []
    },
    {
      "cell_type": "code",
      "source": [
        "def discriminator_loss(d_real_output, d_generated_output):\n",
        "  d_real_loss = loss_fn(tf.ones_like(d_real_output), d_real_output)\n",
        "  d_generated_loss = loss_fn(tf.zeros_like(d_generated_output), d_generated_output)\n",
        "  d_total_loss = d_real_loss + d_generated_loss\n",
        "  return d_total_loss"
      ],
      "metadata": {
        "id": "dOteXWuMfVMI"
      },
      "execution_count": null,
      "outputs": []
    },
    {
      "cell_type": "code",
      "source": [
        "def generator_loss(d_generated_output, g_output, real_signal, lamda):\n",
        "  g_loss = loss_fn(tf.ones_like(d_generated_output), d_generated_output)\n",
        "  regularisation_term = tf.reduce_mean(tf.abs(real_signal-g_output))\n",
        "  g_total_loss = g_loss + (lamda*regularisation_term)\n",
        "  return g_total_loss"
      ],
      "metadata": {
        "id": "YJXuwgUuh26L"
      },
      "execution_count": null,
      "outputs": []
    },
    {
      "cell_type": "code",
      "source": [
        "#Optimizers\n",
        "d_optimizer = Adam(learning_rate=0.0002)\n",
        "g_optimizer = Adam(learning_rate=0.0002)"
      ],
      "metadata": {
        "id": "U8800UefnXda"
      },
      "execution_count": null,
      "outputs": []
    },
    {
      "cell_type": "code",
      "source": [
        ""
      ],
      "metadata": {
        "id": "at_u_WOiorDL"
      },
      "execution_count": null,
      "outputs": []
    }
  ],
  "metadata": {
    "colab": {
      "collapsed_sections": [],
      "name": "Final.ipynb",
      "provenance": []
    },
    "kernelspec": {
      "display_name": "Python 3",
      "name": "python3"
    },
    "language_info": {
      "name": "python"
    },
    "widgets": {
      "application/vnd.jupyter.widget-state+json": {
        "de0a9ff733714ba4ad63d1b1d526a494": {
          "model_module": "@jupyter-widgets/controls",
          "model_name": "HBoxModel",
          "model_module_version": "1.5.0",
          "state": {
            "_dom_classes": [],
            "_model_module": "@jupyter-widgets/controls",
            "_model_module_version": "1.5.0",
            "_model_name": "HBoxModel",
            "_view_count": null,
            "_view_module": "@jupyter-widgets/controls",
            "_view_module_version": "1.5.0",
            "_view_name": "HBoxView",
            "box_style": "",
            "children": [
              "IPY_MODEL_c7e63b075ff44a2696522a8d0c7f1cdc",
              "IPY_MODEL_806be101ef9c41408c760e6bf8744b6d",
              "IPY_MODEL_b72c249d2b3a44788fab6b6337165945"
            ],
            "layout": "IPY_MODEL_60553ebd0c364247bc8db92d7f94e389"
          }
        },
        "c7e63b075ff44a2696522a8d0c7f1cdc": {
          "model_module": "@jupyter-widgets/controls",
          "model_name": "HTMLModel",
          "model_module_version": "1.5.0",
          "state": {
            "_dom_classes": [],
            "_model_module": "@jupyter-widgets/controls",
            "_model_module_version": "1.5.0",
            "_model_name": "HTMLModel",
            "_view_count": null,
            "_view_module": "@jupyter-widgets/controls",
            "_view_module_version": "1.5.0",
            "_view_name": "HTMLView",
            "description": "",
            "description_tooltip": null,
            "layout": "IPY_MODEL_9d0b64e82ccc49c5b80e4d36658054f1",
            "placeholder": "​",
            "style": "IPY_MODEL_b515d23523da412880ee8bd32387a63f",
            "value": "100%"
          }
        },
        "806be101ef9c41408c760e6bf8744b6d": {
          "model_module": "@jupyter-widgets/controls",
          "model_name": "FloatProgressModel",
          "model_module_version": "1.5.0",
          "state": {
            "_dom_classes": [],
            "_model_module": "@jupyter-widgets/controls",
            "_model_module_version": "1.5.0",
            "_model_name": "FloatProgressModel",
            "_view_count": null,
            "_view_module": "@jupyter-widgets/controls",
            "_view_module_version": "1.5.0",
            "_view_name": "ProgressView",
            "bar_style": "success",
            "description": "",
            "description_tooltip": null,
            "layout": "IPY_MODEL_dde311f5831846ec96c8df0b5d39ee60",
            "max": 11571,
            "min": 0,
            "orientation": "horizontal",
            "style": "IPY_MODEL_9357f4321b45427497653dbddc4d55cd",
            "value": 11571
          }
        },
        "b72c249d2b3a44788fab6b6337165945": {
          "model_module": "@jupyter-widgets/controls",
          "model_name": "HTMLModel",
          "model_module_version": "1.5.0",
          "state": {
            "_dom_classes": [],
            "_model_module": "@jupyter-widgets/controls",
            "_model_module_version": "1.5.0",
            "_model_name": "HTMLModel",
            "_view_count": null,
            "_view_module": "@jupyter-widgets/controls",
            "_view_module_version": "1.5.0",
            "_view_name": "HTMLView",
            "description": "",
            "description_tooltip": null,
            "layout": "IPY_MODEL_dec90453fa2b49639310a7f190e33622",
            "placeholder": "​",
            "style": "IPY_MODEL_3723ce517c254a01aaa2047254f20e98",
            "value": " 11571/11571 [01:46&lt;00:00, 55.20it/s]"
          }
        },
        "60553ebd0c364247bc8db92d7f94e389": {
          "model_module": "@jupyter-widgets/base",
          "model_name": "LayoutModel",
          "model_module_version": "1.2.0",
          "state": {
            "_model_module": "@jupyter-widgets/base",
            "_model_module_version": "1.2.0",
            "_model_name": "LayoutModel",
            "_view_count": null,
            "_view_module": "@jupyter-widgets/base",
            "_view_module_version": "1.2.0",
            "_view_name": "LayoutView",
            "align_content": null,
            "align_items": null,
            "align_self": null,
            "border": null,
            "bottom": null,
            "display": null,
            "flex": null,
            "flex_flow": null,
            "grid_area": null,
            "grid_auto_columns": null,
            "grid_auto_flow": null,
            "grid_auto_rows": null,
            "grid_column": null,
            "grid_gap": null,
            "grid_row": null,
            "grid_template_areas": null,
            "grid_template_columns": null,
            "grid_template_rows": null,
            "height": null,
            "justify_content": null,
            "justify_items": null,
            "left": null,
            "margin": null,
            "max_height": null,
            "max_width": null,
            "min_height": null,
            "min_width": null,
            "object_fit": null,
            "object_position": null,
            "order": null,
            "overflow": null,
            "overflow_x": null,
            "overflow_y": null,
            "padding": null,
            "right": null,
            "top": null,
            "visibility": null,
            "width": null
          }
        },
        "9d0b64e82ccc49c5b80e4d36658054f1": {
          "model_module": "@jupyter-widgets/base",
          "model_name": "LayoutModel",
          "model_module_version": "1.2.0",
          "state": {
            "_model_module": "@jupyter-widgets/base",
            "_model_module_version": "1.2.0",
            "_model_name": "LayoutModel",
            "_view_count": null,
            "_view_module": "@jupyter-widgets/base",
            "_view_module_version": "1.2.0",
            "_view_name": "LayoutView",
            "align_content": null,
            "align_items": null,
            "align_self": null,
            "border": null,
            "bottom": null,
            "display": null,
            "flex": null,
            "flex_flow": null,
            "grid_area": null,
            "grid_auto_columns": null,
            "grid_auto_flow": null,
            "grid_auto_rows": null,
            "grid_column": null,
            "grid_gap": null,
            "grid_row": null,
            "grid_template_areas": null,
            "grid_template_columns": null,
            "grid_template_rows": null,
            "height": null,
            "justify_content": null,
            "justify_items": null,
            "left": null,
            "margin": null,
            "max_height": null,
            "max_width": null,
            "min_height": null,
            "min_width": null,
            "object_fit": null,
            "object_position": null,
            "order": null,
            "overflow": null,
            "overflow_x": null,
            "overflow_y": null,
            "padding": null,
            "right": null,
            "top": null,
            "visibility": null,
            "width": null
          }
        },
        "b515d23523da412880ee8bd32387a63f": {
          "model_module": "@jupyter-widgets/controls",
          "model_name": "DescriptionStyleModel",
          "model_module_version": "1.5.0",
          "state": {
            "_model_module": "@jupyter-widgets/controls",
            "_model_module_version": "1.5.0",
            "_model_name": "DescriptionStyleModel",
            "_view_count": null,
            "_view_module": "@jupyter-widgets/base",
            "_view_module_version": "1.2.0",
            "_view_name": "StyleView",
            "description_width": ""
          }
        },
        "dde311f5831846ec96c8df0b5d39ee60": {
          "model_module": "@jupyter-widgets/base",
          "model_name": "LayoutModel",
          "model_module_version": "1.2.0",
          "state": {
            "_model_module": "@jupyter-widgets/base",
            "_model_module_version": "1.2.0",
            "_model_name": "LayoutModel",
            "_view_count": null,
            "_view_module": "@jupyter-widgets/base",
            "_view_module_version": "1.2.0",
            "_view_name": "LayoutView",
            "align_content": null,
            "align_items": null,
            "align_self": null,
            "border": null,
            "bottom": null,
            "display": null,
            "flex": null,
            "flex_flow": null,
            "grid_area": null,
            "grid_auto_columns": null,
            "grid_auto_flow": null,
            "grid_auto_rows": null,
            "grid_column": null,
            "grid_gap": null,
            "grid_row": null,
            "grid_template_areas": null,
            "grid_template_columns": null,
            "grid_template_rows": null,
            "height": null,
            "justify_content": null,
            "justify_items": null,
            "left": null,
            "margin": null,
            "max_height": null,
            "max_width": null,
            "min_height": null,
            "min_width": null,
            "object_fit": null,
            "object_position": null,
            "order": null,
            "overflow": null,
            "overflow_x": null,
            "overflow_y": null,
            "padding": null,
            "right": null,
            "top": null,
            "visibility": null,
            "width": null
          }
        },
        "9357f4321b45427497653dbddc4d55cd": {
          "model_module": "@jupyter-widgets/controls",
          "model_name": "ProgressStyleModel",
          "model_module_version": "1.5.0",
          "state": {
            "_model_module": "@jupyter-widgets/controls",
            "_model_module_version": "1.5.0",
            "_model_name": "ProgressStyleModel",
            "_view_count": null,
            "_view_module": "@jupyter-widgets/base",
            "_view_module_version": "1.2.0",
            "_view_name": "StyleView",
            "bar_color": null,
            "description_width": ""
          }
        },
        "dec90453fa2b49639310a7f190e33622": {
          "model_module": "@jupyter-widgets/base",
          "model_name": "LayoutModel",
          "model_module_version": "1.2.0",
          "state": {
            "_model_module": "@jupyter-widgets/base",
            "_model_module_version": "1.2.0",
            "_model_name": "LayoutModel",
            "_view_count": null,
            "_view_module": "@jupyter-widgets/base",
            "_view_module_version": "1.2.0",
            "_view_name": "LayoutView",
            "align_content": null,
            "align_items": null,
            "align_self": null,
            "border": null,
            "bottom": null,
            "display": null,
            "flex": null,
            "flex_flow": null,
            "grid_area": null,
            "grid_auto_columns": null,
            "grid_auto_flow": null,
            "grid_auto_rows": null,
            "grid_column": null,
            "grid_gap": null,
            "grid_row": null,
            "grid_template_areas": null,
            "grid_template_columns": null,
            "grid_template_rows": null,
            "height": null,
            "justify_content": null,
            "justify_items": null,
            "left": null,
            "margin": null,
            "max_height": null,
            "max_width": null,
            "min_height": null,
            "min_width": null,
            "object_fit": null,
            "object_position": null,
            "order": null,
            "overflow": null,
            "overflow_x": null,
            "overflow_y": null,
            "padding": null,
            "right": null,
            "top": null,
            "visibility": null,
            "width": null
          }
        },
        "3723ce517c254a01aaa2047254f20e98": {
          "model_module": "@jupyter-widgets/controls",
          "model_name": "DescriptionStyleModel",
          "model_module_version": "1.5.0",
          "state": {
            "_model_module": "@jupyter-widgets/controls",
            "_model_module_version": "1.5.0",
            "_model_name": "DescriptionStyleModel",
            "_view_count": null,
            "_view_module": "@jupyter-widgets/base",
            "_view_module_version": "1.2.0",
            "_view_name": "StyleView",
            "description_width": ""
          }
        },
        "aeb0b477ba644853ad0e125796eeaabf": {
          "model_module": "@jupyter-widgets/controls",
          "model_name": "HBoxModel",
          "model_module_version": "1.5.0",
          "state": {
            "_dom_classes": [],
            "_model_module": "@jupyter-widgets/controls",
            "_model_module_version": "1.5.0",
            "_model_name": "HBoxModel",
            "_view_count": null,
            "_view_module": "@jupyter-widgets/controls",
            "_view_module_version": "1.5.0",
            "_view_name": "HBoxView",
            "box_style": "",
            "children": [
              "IPY_MODEL_3833fd0984ca4a6daa9d8e5f3f4d46a7",
              "IPY_MODEL_3b9a90c6c75b41568ca95576ca66cd9c",
              "IPY_MODEL_9fc56c8970da4b32984d582d7fdd53e6"
            ],
            "layout": "IPY_MODEL_b28b8d6dd74a4ad89bd6cd0eabd0fd37"
          }
        },
        "3833fd0984ca4a6daa9d8e5f3f4d46a7": {
          "model_module": "@jupyter-widgets/controls",
          "model_name": "HTMLModel",
          "model_module_version": "1.5.0",
          "state": {
            "_dom_classes": [],
            "_model_module": "@jupyter-widgets/controls",
            "_model_module_version": "1.5.0",
            "_model_name": "HTMLModel",
            "_view_count": null,
            "_view_module": "@jupyter-widgets/controls",
            "_view_module_version": "1.5.0",
            "_view_name": "HTMLView",
            "description": "",
            "description_tooltip": null,
            "layout": "IPY_MODEL_93b847ddf91d4252a98988969dd09be9",
            "placeholder": "​",
            "style": "IPY_MODEL_fc8bfcb656124804b92951a4741e94ef",
            "value": "100%"
          }
        },
        "3b9a90c6c75b41568ca95576ca66cd9c": {
          "model_module": "@jupyter-widgets/controls",
          "model_name": "FloatProgressModel",
          "model_module_version": "1.5.0",
          "state": {
            "_dom_classes": [],
            "_model_module": "@jupyter-widgets/controls",
            "_model_module_version": "1.5.0",
            "_model_name": "FloatProgressModel",
            "_view_count": null,
            "_view_module": "@jupyter-widgets/controls",
            "_view_module_version": "1.5.0",
            "_view_name": "ProgressView",
            "bar_style": "success",
            "description": "",
            "description_tooltip": null,
            "layout": "IPY_MODEL_d22de65ea42b43b1980cd8685d56478c",
            "max": 11571,
            "min": 0,
            "orientation": "horizontal",
            "style": "IPY_MODEL_a844e9de217249688427e9b917894d1f",
            "value": 11571
          }
        },
        "9fc56c8970da4b32984d582d7fdd53e6": {
          "model_module": "@jupyter-widgets/controls",
          "model_name": "HTMLModel",
          "model_module_version": "1.5.0",
          "state": {
            "_dom_classes": [],
            "_model_module": "@jupyter-widgets/controls",
            "_model_module_version": "1.5.0",
            "_model_name": "HTMLModel",
            "_view_count": null,
            "_view_module": "@jupyter-widgets/controls",
            "_view_module_version": "1.5.0",
            "_view_name": "HTMLView",
            "description": "",
            "description_tooltip": null,
            "layout": "IPY_MODEL_fd12740baa6b4a3289e37aa898aa26e0",
            "placeholder": "​",
            "style": "IPY_MODEL_0b95deadf9d24cc3a92bab73ef321a99",
            "value": " 11571/11571 [02:03&lt;00:00,  7.05it/s]"
          }
        },
        "b28b8d6dd74a4ad89bd6cd0eabd0fd37": {
          "model_module": "@jupyter-widgets/base",
          "model_name": "LayoutModel",
          "model_module_version": "1.2.0",
          "state": {
            "_model_module": "@jupyter-widgets/base",
            "_model_module_version": "1.2.0",
            "_model_name": "LayoutModel",
            "_view_count": null,
            "_view_module": "@jupyter-widgets/base",
            "_view_module_version": "1.2.0",
            "_view_name": "LayoutView",
            "align_content": null,
            "align_items": null,
            "align_self": null,
            "border": null,
            "bottom": null,
            "display": null,
            "flex": null,
            "flex_flow": null,
            "grid_area": null,
            "grid_auto_columns": null,
            "grid_auto_flow": null,
            "grid_auto_rows": null,
            "grid_column": null,
            "grid_gap": null,
            "grid_row": null,
            "grid_template_areas": null,
            "grid_template_columns": null,
            "grid_template_rows": null,
            "height": null,
            "justify_content": null,
            "justify_items": null,
            "left": null,
            "margin": null,
            "max_height": null,
            "max_width": null,
            "min_height": null,
            "min_width": null,
            "object_fit": null,
            "object_position": null,
            "order": null,
            "overflow": null,
            "overflow_x": null,
            "overflow_y": null,
            "padding": null,
            "right": null,
            "top": null,
            "visibility": null,
            "width": null
          }
        },
        "93b847ddf91d4252a98988969dd09be9": {
          "model_module": "@jupyter-widgets/base",
          "model_name": "LayoutModel",
          "model_module_version": "1.2.0",
          "state": {
            "_model_module": "@jupyter-widgets/base",
            "_model_module_version": "1.2.0",
            "_model_name": "LayoutModel",
            "_view_count": null,
            "_view_module": "@jupyter-widgets/base",
            "_view_module_version": "1.2.0",
            "_view_name": "LayoutView",
            "align_content": null,
            "align_items": null,
            "align_self": null,
            "border": null,
            "bottom": null,
            "display": null,
            "flex": null,
            "flex_flow": null,
            "grid_area": null,
            "grid_auto_columns": null,
            "grid_auto_flow": null,
            "grid_auto_rows": null,
            "grid_column": null,
            "grid_gap": null,
            "grid_row": null,
            "grid_template_areas": null,
            "grid_template_columns": null,
            "grid_template_rows": null,
            "height": null,
            "justify_content": null,
            "justify_items": null,
            "left": null,
            "margin": null,
            "max_height": null,
            "max_width": null,
            "min_height": null,
            "min_width": null,
            "object_fit": null,
            "object_position": null,
            "order": null,
            "overflow": null,
            "overflow_x": null,
            "overflow_y": null,
            "padding": null,
            "right": null,
            "top": null,
            "visibility": null,
            "width": null
          }
        },
        "fc8bfcb656124804b92951a4741e94ef": {
          "model_module": "@jupyter-widgets/controls",
          "model_name": "DescriptionStyleModel",
          "model_module_version": "1.5.0",
          "state": {
            "_model_module": "@jupyter-widgets/controls",
            "_model_module_version": "1.5.0",
            "_model_name": "DescriptionStyleModel",
            "_view_count": null,
            "_view_module": "@jupyter-widgets/base",
            "_view_module_version": "1.2.0",
            "_view_name": "StyleView",
            "description_width": ""
          }
        },
        "d22de65ea42b43b1980cd8685d56478c": {
          "model_module": "@jupyter-widgets/base",
          "model_name": "LayoutModel",
          "model_module_version": "1.2.0",
          "state": {
            "_model_module": "@jupyter-widgets/base",
            "_model_module_version": "1.2.0",
            "_model_name": "LayoutModel",
            "_view_count": null,
            "_view_module": "@jupyter-widgets/base",
            "_view_module_version": "1.2.0",
            "_view_name": "LayoutView",
            "align_content": null,
            "align_items": null,
            "align_self": null,
            "border": null,
            "bottom": null,
            "display": null,
            "flex": null,
            "flex_flow": null,
            "grid_area": null,
            "grid_auto_columns": null,
            "grid_auto_flow": null,
            "grid_auto_rows": null,
            "grid_column": null,
            "grid_gap": null,
            "grid_row": null,
            "grid_template_areas": null,
            "grid_template_columns": null,
            "grid_template_rows": null,
            "height": null,
            "justify_content": null,
            "justify_items": null,
            "left": null,
            "margin": null,
            "max_height": null,
            "max_width": null,
            "min_height": null,
            "min_width": null,
            "object_fit": null,
            "object_position": null,
            "order": null,
            "overflow": null,
            "overflow_x": null,
            "overflow_y": null,
            "padding": null,
            "right": null,
            "top": null,
            "visibility": null,
            "width": null
          }
        },
        "a844e9de217249688427e9b917894d1f": {
          "model_module": "@jupyter-widgets/controls",
          "model_name": "ProgressStyleModel",
          "model_module_version": "1.5.0",
          "state": {
            "_model_module": "@jupyter-widgets/controls",
            "_model_module_version": "1.5.0",
            "_model_name": "ProgressStyleModel",
            "_view_count": null,
            "_view_module": "@jupyter-widgets/base",
            "_view_module_version": "1.2.0",
            "_view_name": "StyleView",
            "bar_color": null,
            "description_width": ""
          }
        },
        "fd12740baa6b4a3289e37aa898aa26e0": {
          "model_module": "@jupyter-widgets/base",
          "model_name": "LayoutModel",
          "model_module_version": "1.2.0",
          "state": {
            "_model_module": "@jupyter-widgets/base",
            "_model_module_version": "1.2.0",
            "_model_name": "LayoutModel",
            "_view_count": null,
            "_view_module": "@jupyter-widgets/base",
            "_view_module_version": "1.2.0",
            "_view_name": "LayoutView",
            "align_content": null,
            "align_items": null,
            "align_self": null,
            "border": null,
            "bottom": null,
            "display": null,
            "flex": null,
            "flex_flow": null,
            "grid_area": null,
            "grid_auto_columns": null,
            "grid_auto_flow": null,
            "grid_auto_rows": null,
            "grid_column": null,
            "grid_gap": null,
            "grid_row": null,
            "grid_template_areas": null,
            "grid_template_columns": null,
            "grid_template_rows": null,
            "height": null,
            "justify_content": null,
            "justify_items": null,
            "left": null,
            "margin": null,
            "max_height": null,
            "max_width": null,
            "min_height": null,
            "min_width": null,
            "object_fit": null,
            "object_position": null,
            "order": null,
            "overflow": null,
            "overflow_x": null,
            "overflow_y": null,
            "padding": null,
            "right": null,
            "top": null,
            "visibility": null,
            "width": null
          }
        },
        "0b95deadf9d24cc3a92bab73ef321a99": {
          "model_module": "@jupyter-widgets/controls",
          "model_name": "DescriptionStyleModel",
          "model_module_version": "1.5.0",
          "state": {
            "_model_module": "@jupyter-widgets/controls",
            "_model_module_version": "1.5.0",
            "_model_name": "DescriptionStyleModel",
            "_view_count": null,
            "_view_module": "@jupyter-widgets/base",
            "_view_module_version": "1.2.0",
            "_view_name": "StyleView",
            "description_width": ""
          }
        },
        "985b0c3f26334f98ada1b53c9328b2ef": {
          "model_module": "@jupyter-widgets/controls",
          "model_name": "HBoxModel",
          "model_module_version": "1.5.0",
          "state": {
            "_dom_classes": [],
            "_model_module": "@jupyter-widgets/controls",
            "_model_module_version": "1.5.0",
            "_model_name": "HBoxModel",
            "_view_count": null,
            "_view_module": "@jupyter-widgets/controls",
            "_view_module_version": "1.5.0",
            "_view_name": "HBoxView",
            "box_style": "",
            "children": [
              "IPY_MODEL_f10bf1386b654f7d97b237f2ba03e1a1",
              "IPY_MODEL_086ea12c417f43b396f9303feba9c2d4",
              "IPY_MODEL_d73dd31c47144f4b97e06abaf7104e60"
            ],
            "layout": "IPY_MODEL_80d5fb1df5194c43aac41ddd29b76115"
          }
        },
        "f10bf1386b654f7d97b237f2ba03e1a1": {
          "model_module": "@jupyter-widgets/controls",
          "model_name": "HTMLModel",
          "model_module_version": "1.5.0",
          "state": {
            "_dom_classes": [],
            "_model_module": "@jupyter-widgets/controls",
            "_model_module_version": "1.5.0",
            "_model_name": "HTMLModel",
            "_view_count": null,
            "_view_module": "@jupyter-widgets/controls",
            "_view_module_version": "1.5.0",
            "_view_name": "HTMLView",
            "description": "",
            "description_tooltip": null,
            "layout": "IPY_MODEL_115d8dfccde541f298747c2ab1a2e9e0",
            "placeholder": "​",
            "style": "IPY_MODEL_b88b2568997a4bd6948b1186a046cf93",
            "value": "100%"
          }
        },
        "086ea12c417f43b396f9303feba9c2d4": {
          "model_module": "@jupyter-widgets/controls",
          "model_name": "FloatProgressModel",
          "model_module_version": "1.5.0",
          "state": {
            "_dom_classes": [],
            "_model_module": "@jupyter-widgets/controls",
            "_model_module_version": "1.5.0",
            "_model_name": "FloatProgressModel",
            "_view_count": null,
            "_view_module": "@jupyter-widgets/controls",
            "_view_module_version": "1.5.0",
            "_view_name": "ProgressView",
            "bar_style": "success",
            "description": "",
            "description_tooltip": null,
            "layout": "IPY_MODEL_6b1465f4e9cf416b95d0c9fe51450de2",
            "max": 29714,
            "min": 0,
            "orientation": "horizontal",
            "style": "IPY_MODEL_807589d4229c452583c9b035b9847025",
            "value": 29714
          }
        },
        "d73dd31c47144f4b97e06abaf7104e60": {
          "model_module": "@jupyter-widgets/controls",
          "model_name": "HTMLModel",
          "model_module_version": "1.5.0",
          "state": {
            "_dom_classes": [],
            "_model_module": "@jupyter-widgets/controls",
            "_model_module_version": "1.5.0",
            "_model_name": "HTMLModel",
            "_view_count": null,
            "_view_module": "@jupyter-widgets/controls",
            "_view_module_version": "1.5.0",
            "_view_name": "HTMLView",
            "description": "",
            "description_tooltip": null,
            "layout": "IPY_MODEL_1138000c953f4ef8a5082e00d65e3d6c",
            "placeholder": "​",
            "style": "IPY_MODEL_0490309e93164e51aa158f5e43a5d715",
            "value": " 29714/29714 [00:11&lt;00:00, 2658.67it/s]"
          }
        },
        "80d5fb1df5194c43aac41ddd29b76115": {
          "model_module": "@jupyter-widgets/base",
          "model_name": "LayoutModel",
          "model_module_version": "1.2.0",
          "state": {
            "_model_module": "@jupyter-widgets/base",
            "_model_module_version": "1.2.0",
            "_model_name": "LayoutModel",
            "_view_count": null,
            "_view_module": "@jupyter-widgets/base",
            "_view_module_version": "1.2.0",
            "_view_name": "LayoutView",
            "align_content": null,
            "align_items": null,
            "align_self": null,
            "border": null,
            "bottom": null,
            "display": null,
            "flex": null,
            "flex_flow": null,
            "grid_area": null,
            "grid_auto_columns": null,
            "grid_auto_flow": null,
            "grid_auto_rows": null,
            "grid_column": null,
            "grid_gap": null,
            "grid_row": null,
            "grid_template_areas": null,
            "grid_template_columns": null,
            "grid_template_rows": null,
            "height": null,
            "justify_content": null,
            "justify_items": null,
            "left": null,
            "margin": null,
            "max_height": null,
            "max_width": null,
            "min_height": null,
            "min_width": null,
            "object_fit": null,
            "object_position": null,
            "order": null,
            "overflow": null,
            "overflow_x": null,
            "overflow_y": null,
            "padding": null,
            "right": null,
            "top": null,
            "visibility": null,
            "width": null
          }
        },
        "115d8dfccde541f298747c2ab1a2e9e0": {
          "model_module": "@jupyter-widgets/base",
          "model_name": "LayoutModel",
          "model_module_version": "1.2.0",
          "state": {
            "_model_module": "@jupyter-widgets/base",
            "_model_module_version": "1.2.0",
            "_model_name": "LayoutModel",
            "_view_count": null,
            "_view_module": "@jupyter-widgets/base",
            "_view_module_version": "1.2.0",
            "_view_name": "LayoutView",
            "align_content": null,
            "align_items": null,
            "align_self": null,
            "border": null,
            "bottom": null,
            "display": null,
            "flex": null,
            "flex_flow": null,
            "grid_area": null,
            "grid_auto_columns": null,
            "grid_auto_flow": null,
            "grid_auto_rows": null,
            "grid_column": null,
            "grid_gap": null,
            "grid_row": null,
            "grid_template_areas": null,
            "grid_template_columns": null,
            "grid_template_rows": null,
            "height": null,
            "justify_content": null,
            "justify_items": null,
            "left": null,
            "margin": null,
            "max_height": null,
            "max_width": null,
            "min_height": null,
            "min_width": null,
            "object_fit": null,
            "object_position": null,
            "order": null,
            "overflow": null,
            "overflow_x": null,
            "overflow_y": null,
            "padding": null,
            "right": null,
            "top": null,
            "visibility": null,
            "width": null
          }
        },
        "b88b2568997a4bd6948b1186a046cf93": {
          "model_module": "@jupyter-widgets/controls",
          "model_name": "DescriptionStyleModel",
          "model_module_version": "1.5.0",
          "state": {
            "_model_module": "@jupyter-widgets/controls",
            "_model_module_version": "1.5.0",
            "_model_name": "DescriptionStyleModel",
            "_view_count": null,
            "_view_module": "@jupyter-widgets/base",
            "_view_module_version": "1.2.0",
            "_view_name": "StyleView",
            "description_width": ""
          }
        },
        "6b1465f4e9cf416b95d0c9fe51450de2": {
          "model_module": "@jupyter-widgets/base",
          "model_name": "LayoutModel",
          "model_module_version": "1.2.0",
          "state": {
            "_model_module": "@jupyter-widgets/base",
            "_model_module_version": "1.2.0",
            "_model_name": "LayoutModel",
            "_view_count": null,
            "_view_module": "@jupyter-widgets/base",
            "_view_module_version": "1.2.0",
            "_view_name": "LayoutView",
            "align_content": null,
            "align_items": null,
            "align_self": null,
            "border": null,
            "bottom": null,
            "display": null,
            "flex": null,
            "flex_flow": null,
            "grid_area": null,
            "grid_auto_columns": null,
            "grid_auto_flow": null,
            "grid_auto_rows": null,
            "grid_column": null,
            "grid_gap": null,
            "grid_row": null,
            "grid_template_areas": null,
            "grid_template_columns": null,
            "grid_template_rows": null,
            "height": null,
            "justify_content": null,
            "justify_items": null,
            "left": null,
            "margin": null,
            "max_height": null,
            "max_width": null,
            "min_height": null,
            "min_width": null,
            "object_fit": null,
            "object_position": null,
            "order": null,
            "overflow": null,
            "overflow_x": null,
            "overflow_y": null,
            "padding": null,
            "right": null,
            "top": null,
            "visibility": null,
            "width": null
          }
        },
        "807589d4229c452583c9b035b9847025": {
          "model_module": "@jupyter-widgets/controls",
          "model_name": "ProgressStyleModel",
          "model_module_version": "1.5.0",
          "state": {
            "_model_module": "@jupyter-widgets/controls",
            "_model_module_version": "1.5.0",
            "_model_name": "ProgressStyleModel",
            "_view_count": null,
            "_view_module": "@jupyter-widgets/base",
            "_view_module_version": "1.2.0",
            "_view_name": "StyleView",
            "bar_color": null,
            "description_width": ""
          }
        },
        "1138000c953f4ef8a5082e00d65e3d6c": {
          "model_module": "@jupyter-widgets/base",
          "model_name": "LayoutModel",
          "model_module_version": "1.2.0",
          "state": {
            "_model_module": "@jupyter-widgets/base",
            "_model_module_version": "1.2.0",
            "_model_name": "LayoutModel",
            "_view_count": null,
            "_view_module": "@jupyter-widgets/base",
            "_view_module_version": "1.2.0",
            "_view_name": "LayoutView",
            "align_content": null,
            "align_items": null,
            "align_self": null,
            "border": null,
            "bottom": null,
            "display": null,
            "flex": null,
            "flex_flow": null,
            "grid_area": null,
            "grid_auto_columns": null,
            "grid_auto_flow": null,
            "grid_auto_rows": null,
            "grid_column": null,
            "grid_gap": null,
            "grid_row": null,
            "grid_template_areas": null,
            "grid_template_columns": null,
            "grid_template_rows": null,
            "height": null,
            "justify_content": null,
            "justify_items": null,
            "left": null,
            "margin": null,
            "max_height": null,
            "max_width": null,
            "min_height": null,
            "min_width": null,
            "object_fit": null,
            "object_position": null,
            "order": null,
            "overflow": null,
            "overflow_x": null,
            "overflow_y": null,
            "padding": null,
            "right": null,
            "top": null,
            "visibility": null,
            "width": null
          }
        },
        "0490309e93164e51aa158f5e43a5d715": {
          "model_module": "@jupyter-widgets/controls",
          "model_name": "DescriptionStyleModel",
          "model_module_version": "1.5.0",
          "state": {
            "_model_module": "@jupyter-widgets/controls",
            "_model_module_version": "1.5.0",
            "_model_name": "DescriptionStyleModel",
            "_view_count": null,
            "_view_module": "@jupyter-widgets/base",
            "_view_module_version": "1.2.0",
            "_view_name": "StyleView",
            "description_width": ""
          }
        }
      }
    },
    "gpuClass": "standard"
  },
  "nbformat": 4,
  "nbformat_minor": 0
}